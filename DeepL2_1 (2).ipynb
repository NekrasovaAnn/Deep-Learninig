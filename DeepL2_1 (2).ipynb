{
 "cells": [
  {
   "cell_type": "code",
   "execution_count": 1,
   "metadata": {
    "colab": {
     "base_uri": "https://localhost:8080/"
    },
    "id": "BSp4sC8SRApF",
    "outputId": "aa4bbbd1-222d-4551-b626-df90206f0bf6"
   },
   "outputs": [
    {
     "name": "stderr",
     "output_type": "stream",
     "text": [
      "/usr/local/lib/python3.8/dist-packages/tqdm/auto.py:22: TqdmWarning: IProgress not found. Please update jupyter and ipywidgets. See https://ipywidgets.readthedocs.io/en/stable/user_install.html\n",
      "  from .autonotebook import tqdm as notebook_tqdm\n"
     ]
    },
    {
     "name": "stdout",
     "output_type": "stream",
     "text": [
      "cuda\n"
     ]
    }
   ],
   "source": [
    "import os\n",
    "from os.path import join as pjoin\n",
    "\n",
    "import cv2\n",
    "import numpy as np\n",
    "\n",
    "import torch\n",
    "import torch.nn as nn\n",
    "import torch.nn.functional as F\n",
    "from torch.utils.data import DataLoader, Dataset\n",
    "from torch.optim.lr_scheduler import ReduceLROnPlateau\n",
    "\n",
    "#!pip install torchmetrics\n",
    "import torchmetrics.classification as metrics\n",
    "\n",
    "import torchvision\n",
    "from torchvision import transforms\n",
    "\n",
    "#!pip install -U segmentation-models-pytorch\n",
    "import segmentation_models_pytorch as smp\n",
    "\n",
    "from torch.utils.tensorboard import SummaryWriter\n",
    "\n",
    "import albumentations as A\n",
    "\n",
    "from tqdm import tqdm\n",
    "\n",
    "#!pip install torchinfo\n",
    "import torchinfo\n",
    "\n",
    "import matplotlib.pyplot as plt\n",
    "\n",
    "from torch.cuda import is_available\n",
    "device = 'cuda' if is_available() else 'cpu'   # Меняем наш механизм на работу от гпу\n",
    "print(device)"
   ]
  },
  {
   "cell_type": "code",
   "execution_count": 2,
   "metadata": {
    "colab": {
     "base_uri": "https://localhost:8080/"
    },
    "id": "BSp4sC8SRApF",
    "outputId": "aa4bbbd1-222d-4551-b626-df90206f0bf6"
   },
   "outputs": [],
   "source": [
    "!rm -rf `find -type d -name .ipynb_checkpoints`"
   ]
  },
  {
   "cell_type": "code",
   "execution_count": 3,
   "metadata": {
    "id": "zXOvpg09RQwF"
   },
   "outputs": [],
   "source": [
    "import os\n",
    "from os.path import join as pjoin\n",
    "import contextlib\n",
    "\n",
    "\n",
    "import cv2\n",
    "import numpy as np\n",
    "\n",
    "\n",
    "import matplotlib.pyplot as plt\n",
    "\n",
    "def uniqufy_path(path):\n",
    "    filename, extension = os.path.splitext(path)\n",
    "    file_index = 1\n",
    "\n",
    "    while os.path.exists(path):\n",
    "        path = f\"{filename}_{file_index}{extension}\"\n",
    "        file_index += 1\n",
    "    \n",
    "    return path\n",
    "\n",
    "def create_image_plot(row_len : int = None, figsize = (16,6), **images):\n",
    "    n_images = len(images)\n",
    "    if row_len is None:\n",
    "        row_len = n_images\n",
    "    fig = plt.figure(figsize=figsize) \n",
    "    k = 0\n",
    "    for idx, (name, image) in enumerate(images.items()):\n",
    "        #image = cv2.cvtColor(image, cv2.COLOR_BGR2RGB)\n",
    "        ax = fig.add_subplot(n_images//row_len+1, row_len, idx+1)\n",
    "        ax.set_title(name.title(), fontsize=16)\n",
    "        if(k == 0):\n",
    "          image = image / 8 + 0.5\n",
    "          k = 1\n",
    "        else:\n",
    "          k = 0\n",
    "        #print(np.amax(image))\n",
    "        #print(np.amin(image))\n",
    "        with open(\"$null\", 'w') as dummy_f:\n",
    "            with contextlib.redirect_stderr(dummy_f):\n",
    "                ax.imshow(image)\n",
    "    return fig\n",
    "\n",
    "def save_imgs(path = None, name = \"imgs\", **images):\n",
    "    if(path is None):\n",
    "        raise AttributeError(f\"You shoud write path\")\n",
    "    if not os.path.exists(path):\n",
    "        os.makedirs(path)\n",
    "    image_path = pjoin(path, f\"{name}\")\n",
    "    fig = create_image_plot(**images)\n",
    "    fig.savefig(image_path)\n",
    "    fig.clear()\n",
    "    plt.close(fig)"
   ]
  },
  {
   "cell_type": "code",
   "execution_count": 4,
   "metadata": {
    "id": "4B9ghbJBRdML"
   },
   "outputs": [],
   "source": [
    "LAUNCH_NAME = \"UNet_9\"\n",
    "\n",
    "\n",
    "STARTING_EPOCH = 0\n",
    "LOAD_WEIGHTS = None #\n",
    "LOAD_ADAM_STATE = None #\n",
    "USE_MANUAL_TENSORBOARD_FOLDER = None # \n",
    "\n",
    "SAVED_MODEL_PATH = None \n",
    "\n",
    "EPOCHS = 15\n",
    "LEARNING_RATE = 1E-5 # 0.0001 \n",
    "WEIGHT_DECAY = 0 # 1E-7\n",
    "\n",
    "BATCH_SIZE = 20 # 20\n",
    "\n",
    "SAVE_METHOD = \"TORCH\" # \"TORCH\" / \"ONNX\"\n",
    "WEIGHT_SAVER = \"last\" # \"all\" / \"nothing\" / \"last\"\n",
    "\n",
    "CLASS_NAMES = ['other', 'road']\n",
    "CLASS_RGB_VALUES = [[0,0,0], [255, 255, 255]]\n",
    "\n",
    "NORMALIZE_MEAN_IMG =  [0.4295, 0.4325, 0.3961]       #[0.485, 0.456, 0.406]\n",
    "NORMALIZE_DEVIATIONS_IMG =  [0.2267, 0.2192, 0.2240] #[0.229, 0.224, 0.225]\n",
    " \n",
    "CROP_SIZE = (256, 256)\n",
    "\n",
    "NUM_WORKERS = 4\n",
    "\n",
    "# IMAGE_TRAIN_DATASET_PATH = \"/usr/src/app/roads_dataset_cropped/tiff/train\"\n",
    "# MASK_TRAIN_DATASET_PATH = \"/usr/src/app/roads_dataset_cropped/tiff/train_labels\"\n",
    "# IMAGE_TEST_DATASET_PATH = \"/usr/src/app/roads_dataset_cropped/tiff/test\"\n",
    "# MASK_TEST_DATASET_PATH = \"/usr/src/app/roads_dataset_cropped/tiff/test_labels\"\n",
    "# IMAGE_VALID_DATASET_PATH = \"/usr/src/app/roads_dataset_cropped/tiff/val\"\n",
    "# MASK_VALID_DATASET_PATH = \"/usr/src/app/roads_dataset_cropped/tiff/val_labels\"\n",
    "\n",
    "DATASET_DIR = '/usr/src/app/roads_dataset_cropped/tiff'\n",
    "VALID_SET   = (pjoin(DATASET_DIR, \"val\"), pjoin(DATASET_DIR, \"val_labels\"))\n",
    "TEST_SET   =  (pjoin(DATASET_DIR, \"test\"), pjoin(DATASET_DIR, \"test_labels\"))\n",
    "TRAIN_SET   = (pjoin(DATASET_DIR, \"train\"), pjoin(DATASET_DIR, \"train_labels\"))\n",
    "\n",
    "trained = False"
   ]
  },
  {
   "cell_type": "code",
   "execution_count": 5,
   "metadata": {
    "id": "aQF4lpXbRf2l"
   },
   "outputs": [],
   "source": [
    "TBpath = uniqufy_path(f\"TB_cache/{LAUNCH_NAME}\") if USE_MANUAL_TENSORBOARD_FOLDER is None else USE_MANUAL_TENSORBOARD_FOLDER\n",
    "TBwriter = SummaryWriter(TBpath)"
   ]
  },
  {
   "cell_type": "code",
   "execution_count": 6,
   "metadata": {
    "id": "PPU89mf2Rioy"
   },
   "outputs": [],
   "source": [
    "def to_tensor(x, **kwargs):\n",
    "    return x.transpose(2, 0, 1).astype('float32')\n",
    "\n",
    "prepare_to_network = A.Lambda(image=to_tensor, mask=to_tensor)\n",
    "\n",
    "train_transform = A.Compose(\n",
    "    [\n",
    "        A.OneOf(\n",
    "            [\n",
    "                A.HorizontalFlip(p=1),\n",
    "                A.VerticalFlip(p=1),\n",
    "                A.RandomRotate90(p=1),\n",
    "            ],\n",
    "            p=0.75,\n",
    "        ),\n",
    "        A.Normalize(mean=NORMALIZE_MEAN_IMG, std=NORMALIZE_DEVIATIONS_IMG, always_apply=True)\n",
    "    ]\n",
    ")\n",
    "\n",
    "\n",
    "valid_transform = A.Compose(\n",
    "    [\n",
    "        A.Normalize(mean=NORMALIZE_MEAN_IMG, std=NORMALIZE_DEVIATIONS_IMG, always_apply=True),\n",
    "    ]\n",
    ")"
   ]
  },
  {
   "cell_type": "code",
   "execution_count": 7,
   "metadata": {
    "id": "4qHAADcLRmjl"
   },
   "outputs": [],
   "source": [
    "def one_hot_encode(label, label_values):\n",
    "    semantic_map = []\n",
    "    for colour in label_values:\n",
    "        equality = np.equal(label, colour)\n",
    "        class_map = np.all(equality, axis = -1)\n",
    "        semantic_map.append(class_map)\n",
    "    semantic_map = np.stack(semantic_map, axis=-1)\n",
    "    return semantic_map\n",
    "\n",
    "def reverse_one_hot(image):\n",
    "    x = np.argmax(image, axis = -1)\n",
    "    return x\n",
    "\n",
    "def colour_code_segmentation(image, label_values):\n",
    "    colour_codes = np.array(label_values)\n",
    "    # print(np.amax(image))\n",
    "    # print(np.amin(image))\n",
    "    # print(image)\n",
    "    x = colour_codes[(image).astype(int)]\n",
    "    # print(np.amax(image))\n",
    "    # print(np.amin(image))\n",
    "    # print(image)\n",
    "    return x"
   ]
  },
  {
   "cell_type": "code",
   "execution_count": 8,
   "metadata": {
    "id": "Lm8z4ZIpRoyJ"
   },
   "outputs": [],
   "source": [
    "class RoadsDataset(Dataset):\n",
    "    def __init__(self, values_dir, labels_dir, class_rgb_values=None, transform=None, readyToNetwork=None):\n",
    "        self.values_dir = values_dir\n",
    "        self.labels_dir = labels_dir\n",
    "        self.class_rgb_values = class_rgb_values\n",
    "        self.images = [pjoin(self.values_dir, filename) for filename in sorted(os.listdir(self.values_dir))]\n",
    "        self.labels = [pjoin(self.labels_dir, filename) for filename in sorted(os.listdir(self.labels_dir))]\n",
    "        self.transform = transform\n",
    "        self.readyToNetwork = readyToNetwork\n",
    "\n",
    "    def __len__(self):\n",
    "        return len(self.images)\n",
    "\n",
    "    def __getitem__(self, index):\n",
    "        image_path = self.images[index]\n",
    "        label_path = self.labels[index]\n",
    "\n",
    "        image = cv2.cvtColor(cv2.imread(image_path), cv2.COLOR_BGR2RGB)\n",
    "        label = cv2.cvtColor(cv2.imread(label_path), cv2.COLOR_BGR2RGB)\n",
    "        label = one_hot_encode(label, self.class_rgb_values).astype('float')\n",
    "\n",
    "        if self.transform:\n",
    "            sample = self.transform(image=image, mask=label)\n",
    "            image, label = sample['image'], sample['mask']\n",
    "        if self.readyToNetwork:\n",
    "            sample = self.readyToNetwork(image=image, mask=label)\n",
    "            image, label = sample['image'], sample['mask']\n",
    "        return image, label"
   ]
  },
  {
   "cell_type": "code",
   "execution_count": 9,
   "metadata": {
    "id": "nKahsStKegyG"
   },
   "outputs": [],
   "source": [
    "sample_dataset = RoadsDataset(*TEST_SET,\n",
    "                       class_rgb_values=CLASS_RGB_VALUES, transform=valid_transform)\n",
    "\n",
    "for i in range(10):\n",
    "    image, mask = sample_dataset[np.random.randint(0, len(sample_dataset))]\n",
    "    TBwriter.add_figure(f'train samples', create_image_plot(origin=image, true=colour_code_segmentation(reverse_one_hot(mask), CLASS_RGB_VALUES)), global_step=i)\n",
    "del(sample_dataset)"
   ]
  },
  {
   "cell_type": "code",
   "execution_count": 10,
   "metadata": {},
   "outputs": [],
   "source": [
    "import segmentation_models_pytorch as smp\n",
    "\n",
    "ENCODER = 'resnet50'\n",
    "CLASSES = CLASS_NAMES\n",
    "ACTIVATION = nn.ReLU\n",
    "\n",
    "model = smp.Unet(\n",
    "    encoder_name=ENCODER, \n",
    "    classes=len(CLASSES),\n",
    "    activation=ACTIVATION,\n",
    ")\n",
    "\n"
   ]
  },
  {
   "cell_type": "code",
   "execution_count": 11,
   "metadata": {
    "id": "Zvt9KuTDTBln"
   },
   "outputs": [],
   "source": []
  },
  {
   "cell_type": "code",
   "execution_count": 12,
   "metadata": {
    "colab": {
     "base_uri": "https://localhost:8080/"
    },
    "id": "3c-nfWAJvmUk",
    "outputId": "a39f8144-0e47-42f0-e42d-59f4065c4f99"
   },
   "outputs": [
    {
     "name": "stdout",
     "output_type": "stream",
     "text": [
      "=================================================================================================================================================================================================================================\n",
      "Layer (type (var_name))                            Input Shape               Output Shape              Param #                   Param %                   Kernel Shape              Mult-Adds                 Trainable\n",
      "=================================================================================================================================================================================================================================\n",
      "Unet (Unet)                                        [20, 3, 256, 256]         [20, 2, 256, 256]         --                             --                   --                        --                        True\n",
      "├─ResNetEncoder (encoder)                          [20, 3, 256, 256]         [20, 3, 256, 256]         --                             --                   --                        --                        True\n",
      "│    └─Conv2d (conv1)                              [20, 3, 256, 256]         [20, 64, 128, 128]        9,408                       0.03%                   [7, 7]                    3,082,813,440             True\n",
      "│    └─BatchNorm2d (bn1)                           [20, 64, 128, 128]        [20, 64, 128, 128]        128                         0.00%                   --                        2,560                     True\n",
      "│    └─ReLU (relu)                                 [20, 64, 128, 128]        [20, 64, 128, 128]        --                             --                   --                        --                        --\n",
      "│    └─MaxPool2d (maxpool)                         [20, 64, 128, 128]        [20, 64, 64, 64]          --                             --                   3                         --                        --\n",
      "│    └─Sequential (layer1)                         [20, 64, 64, 64]          [20, 256, 64, 64]         --                             --                   --                        --                        True\n",
      "│    │    └─Bottleneck (0)                         [20, 64, 64, 64]          [20, 256, 64, 64]         --                             --                   --                        --                        True\n",
      "│    │    │    └─Conv2d (conv1)                    [20, 64, 64, 64]          [20, 64, 64, 64]          4,096                       0.01%                   [1, 1]                    335,544,320               True\n",
      "│    │    │    └─BatchNorm2d (bn1)                 [20, 64, 64, 64]          [20, 64, 64, 64]          128                         0.00%                   --                        2,560                     True\n",
      "│    │    │    └─ReLU (relu)                       [20, 64, 64, 64]          [20, 64, 64, 64]          --                             --                   --                        --                        --\n",
      "│    │    │    └─Conv2d (conv2)                    [20, 64, 64, 64]          [20, 64, 64, 64]          36,864                      0.11%                   [3, 3]                    3,019,898,880             True\n",
      "│    │    │    └─BatchNorm2d (bn2)                 [20, 64, 64, 64]          [20, 64, 64, 64]          128                         0.00%                   --                        2,560                     True\n",
      "│    │    │    └─ReLU (relu)                       [20, 64, 64, 64]          [20, 64, 64, 64]          --                        (recursive)               --                        --                        --\n",
      "│    │    │    └─Conv2d (conv3)                    [20, 64, 64, 64]          [20, 256, 64, 64]         16,384                      0.05%                   [1, 1]                    1,342,177,280             True\n",
      "│    │    │    └─BatchNorm2d (bn3)                 [20, 256, 64, 64]         [20, 256, 64, 64]         512                         0.00%                   --                        10,240                    True\n",
      "│    │    │    └─Sequential (downsample)           [20, 64, 64, 64]          [20, 256, 64, 64]         --                             --                   --                        --                        True\n",
      "│    │    │    │    └─Conv2d (0)                   [20, 64, 64, 64]          [20, 256, 64, 64]         16,384                      0.05%                   [1, 1]                    1,342,177,280             True\n",
      "│    │    │    │    └─BatchNorm2d (1)              [20, 256, 64, 64]         [20, 256, 64, 64]         512                         0.00%                   --                        10,240                    True\n",
      "│    │    │    └─ReLU (relu)                       [20, 256, 64, 64]         [20, 256, 64, 64]         --                        (recursive)               --                        --                        --\n",
      "│    │    └─Bottleneck (1)                         [20, 256, 64, 64]         [20, 256, 64, 64]         --                             --                   --                        --                        True\n",
      "│    │    │    └─Conv2d (conv1)                    [20, 256, 64, 64]         [20, 64, 64, 64]          16,384                      0.05%                   [1, 1]                    1,342,177,280             True\n",
      "│    │    │    └─BatchNorm2d (bn1)                 [20, 64, 64, 64]          [20, 64, 64, 64]          128                         0.00%                   --                        2,560                     True\n",
      "│    │    │    └─ReLU (relu)                       [20, 64, 64, 64]          [20, 64, 64, 64]          --                             --                   --                        --                        --\n",
      "│    │    │    └─Conv2d (conv2)                    [20, 64, 64, 64]          [20, 64, 64, 64]          36,864                      0.11%                   [3, 3]                    3,019,898,880             True\n",
      "│    │    │    └─BatchNorm2d (bn2)                 [20, 64, 64, 64]          [20, 64, 64, 64]          128                         0.00%                   --                        2,560                     True\n",
      "│    │    │    └─ReLU (relu)                       [20, 64, 64, 64]          [20, 64, 64, 64]          --                        (recursive)               --                        --                        --\n",
      "│    │    │    └─Conv2d (conv3)                    [20, 64, 64, 64]          [20, 256, 64, 64]         16,384                      0.05%                   [1, 1]                    1,342,177,280             True\n",
      "│    │    │    └─BatchNorm2d (bn3)                 [20, 256, 64, 64]         [20, 256, 64, 64]         512                         0.00%                   --                        10,240                    True\n",
      "│    │    │    └─ReLU (relu)                       [20, 256, 64, 64]         [20, 256, 64, 64]         --                        (recursive)               --                        --                        --\n",
      "│    │    └─Bottleneck (2)                         [20, 256, 64, 64]         [20, 256, 64, 64]         --                             --                   --                        --                        True\n",
      "│    │    │    └─Conv2d (conv1)                    [20, 256, 64, 64]         [20, 64, 64, 64]          16,384                      0.05%                   [1, 1]                    1,342,177,280             True\n",
      "│    │    │    └─BatchNorm2d (bn1)                 [20, 64, 64, 64]          [20, 64, 64, 64]          128                         0.00%                   --                        2,560                     True\n",
      "│    │    │    └─ReLU (relu)                       [20, 64, 64, 64]          [20, 64, 64, 64]          --                             --                   --                        --                        --\n",
      "│    │    │    └─Conv2d (conv2)                    [20, 64, 64, 64]          [20, 64, 64, 64]          36,864                      0.11%                   [3, 3]                    3,019,898,880             True\n",
      "│    │    │    └─BatchNorm2d (bn2)                 [20, 64, 64, 64]          [20, 64, 64, 64]          128                         0.00%                   --                        2,560                     True\n",
      "│    │    │    └─ReLU (relu)                       [20, 64, 64, 64]          [20, 64, 64, 64]          --                        (recursive)               --                        --                        --\n",
      "│    │    │    └─Conv2d (conv3)                    [20, 64, 64, 64]          [20, 256, 64, 64]         16,384                      0.05%                   [1, 1]                    1,342,177,280             True\n",
      "│    │    │    └─BatchNorm2d (bn3)                 [20, 256, 64, 64]         [20, 256, 64, 64]         512                         0.00%                   --                        10,240                    True\n",
      "│    │    │    └─ReLU (relu)                       [20, 256, 64, 64]         [20, 256, 64, 64]         --                        (recursive)               --                        --                        --\n",
      "│    └─Sequential (layer2)                         [20, 256, 64, 64]         [20, 512, 32, 32]         --                             --                   --                        --                        True\n",
      "│    │    └─Bottleneck (0)                         [20, 256, 64, 64]         [20, 512, 32, 32]         --                             --                   --                        --                        True\n",
      "│    │    │    └─Conv2d (conv1)                    [20, 256, 64, 64]         [20, 128, 64, 64]         32,768                      0.10%                   [1, 1]                    2,684,354,560             True\n",
      "│    │    │    └─BatchNorm2d (bn1)                 [20, 128, 64, 64]         [20, 128, 64, 64]         256                         0.00%                   --                        5,120                     True\n",
      "│    │    │    └─ReLU (relu)                       [20, 128, 64, 64]         [20, 128, 64, 64]         --                             --                   --                        --                        --\n",
      "│    │    │    └─Conv2d (conv2)                    [20, 128, 64, 64]         [20, 128, 32, 32]         147,456                     0.45%                   [3, 3]                    3,019,898,880             True\n",
      "│    │    │    └─BatchNorm2d (bn2)                 [20, 128, 32, 32]         [20, 128, 32, 32]         256                         0.00%                   --                        5,120                     True\n",
      "│    │    │    └─ReLU (relu)                       [20, 128, 32, 32]         [20, 128, 32, 32]         --                        (recursive)               --                        --                        --\n",
      "│    │    │    └─Conv2d (conv3)                    [20, 128, 32, 32]         [20, 512, 32, 32]         65,536                      0.20%                   [1, 1]                    1,342,177,280             True\n",
      "│    │    │    └─BatchNorm2d (bn3)                 [20, 512, 32, 32]         [20, 512, 32, 32]         1,024                       0.00%                   --                        20,480                    True\n",
      "│    │    │    └─Sequential (downsample)           [20, 256, 64, 64]         [20, 512, 32, 32]         --                             --                   --                        --                        True\n",
      "│    │    │    │    └─Conv2d (0)                   [20, 256, 64, 64]         [20, 512, 32, 32]         131,072                     0.40%                   [1, 1]                    2,684,354,560             True\n",
      "│    │    │    │    └─BatchNorm2d (1)              [20, 512, 32, 32]         [20, 512, 32, 32]         1,024                       0.00%                   --                        20,480                    True\n",
      "│    │    │    └─ReLU (relu)                       [20, 512, 32, 32]         [20, 512, 32, 32]         --                        (recursive)               --                        --                        --\n",
      "│    │    └─Bottleneck (1)                         [20, 512, 32, 32]         [20, 512, 32, 32]         --                             --                   --                        --                        True\n",
      "│    │    │    └─Conv2d (conv1)                    [20, 512, 32, 32]         [20, 128, 32, 32]         65,536                      0.20%                   [1, 1]                    1,342,177,280             True\n",
      "│    │    │    └─BatchNorm2d (bn1)                 [20, 128, 32, 32]         [20, 128, 32, 32]         256                         0.00%                   --                        5,120                     True\n",
      "│    │    │    └─ReLU (relu)                       [20, 128, 32, 32]         [20, 128, 32, 32]         --                             --                   --                        --                        --\n",
      "│    │    │    └─Conv2d (conv2)                    [20, 128, 32, 32]         [20, 128, 32, 32]         147,456                     0.45%                   [3, 3]                    3,019,898,880             True\n",
      "│    │    │    └─BatchNorm2d (bn2)                 [20, 128, 32, 32]         [20, 128, 32, 32]         256                         0.00%                   --                        5,120                     True\n",
      "│    │    │    └─ReLU (relu)                       [20, 128, 32, 32]         [20, 128, 32, 32]         --                        (recursive)               --                        --                        --\n",
      "│    │    │    └─Conv2d (conv3)                    [20, 128, 32, 32]         [20, 512, 32, 32]         65,536                      0.20%                   [1, 1]                    1,342,177,280             True\n",
      "│    │    │    └─BatchNorm2d (bn3)                 [20, 512, 32, 32]         [20, 512, 32, 32]         1,024                       0.00%                   --                        20,480                    True\n",
      "│    │    │    └─ReLU (relu)                       [20, 512, 32, 32]         [20, 512, 32, 32]         --                        (recursive)               --                        --                        --\n",
      "│    │    └─Bottleneck (2)                         [20, 512, 32, 32]         [20, 512, 32, 32]         --                             --                   --                        --                        True\n",
      "│    │    │    └─Conv2d (conv1)                    [20, 512, 32, 32]         [20, 128, 32, 32]         65,536                      0.20%                   [1, 1]                    1,342,177,280             True\n",
      "│    │    │    └─BatchNorm2d (bn1)                 [20, 128, 32, 32]         [20, 128, 32, 32]         256                         0.00%                   --                        5,120                     True\n",
      "│    │    │    └─ReLU (relu)                       [20, 128, 32, 32]         [20, 128, 32, 32]         --                             --                   --                        --                        --\n",
      "│    │    │    └─Conv2d (conv2)                    [20, 128, 32, 32]         [20, 128, 32, 32]         147,456                     0.45%                   [3, 3]                    3,019,898,880             True\n",
      "│    │    │    └─BatchNorm2d (bn2)                 [20, 128, 32, 32]         [20, 128, 32, 32]         256                         0.00%                   --                        5,120                     True\n",
      "│    │    │    └─ReLU (relu)                       [20, 128, 32, 32]         [20, 128, 32, 32]         --                        (recursive)               --                        --                        --\n",
      "│    │    │    └─Conv2d (conv3)                    [20, 128, 32, 32]         [20, 512, 32, 32]         65,536                      0.20%                   [1, 1]                    1,342,177,280             True\n",
      "│    │    │    └─BatchNorm2d (bn3)                 [20, 512, 32, 32]         [20, 512, 32, 32]         1,024                       0.00%                   --                        20,480                    True\n",
      "│    │    │    └─ReLU (relu)                       [20, 512, 32, 32]         [20, 512, 32, 32]         --                        (recursive)               --                        --                        --\n",
      "│    │    └─Bottleneck (3)                         [20, 512, 32, 32]         [20, 512, 32, 32]         --                             --                   --                        --                        True\n",
      "│    │    │    └─Conv2d (conv1)                    [20, 512, 32, 32]         [20, 128, 32, 32]         65,536                      0.20%                   [1, 1]                    1,342,177,280             True\n",
      "│    │    │    └─BatchNorm2d (bn1)                 [20, 128, 32, 32]         [20, 128, 32, 32]         256                         0.00%                   --                        5,120                     True\n",
      "│    │    │    └─ReLU (relu)                       [20, 128, 32, 32]         [20, 128, 32, 32]         --                             --                   --                        --                        --\n",
      "│    │    │    └─Conv2d (conv2)                    [20, 128, 32, 32]         [20, 128, 32, 32]         147,456                     0.45%                   [3, 3]                    3,019,898,880             True\n",
      "│    │    │    └─BatchNorm2d (bn2)                 [20, 128, 32, 32]         [20, 128, 32, 32]         256                         0.00%                   --                        5,120                     True\n",
      "│    │    │    └─ReLU (relu)                       [20, 128, 32, 32]         [20, 128, 32, 32]         --                        (recursive)               --                        --                        --\n",
      "│    │    │    └─Conv2d (conv3)                    [20, 128, 32, 32]         [20, 512, 32, 32]         65,536                      0.20%                   [1, 1]                    1,342,177,280             True\n",
      "│    │    │    └─BatchNorm2d (bn3)                 [20, 512, 32, 32]         [20, 512, 32, 32]         1,024                       0.00%                   --                        20,480                    True\n",
      "│    │    │    └─ReLU (relu)                       [20, 512, 32, 32]         [20, 512, 32, 32]         --                        (recursive)               --                        --                        --\n",
      "│    └─Sequential (layer3)                         [20, 512, 32, 32]         [20, 1024, 16, 16]        --                             --                   --                        --                        True\n",
      "│    │    └─Bottleneck (0)                         [20, 512, 32, 32]         [20, 1024, 16, 16]        --                             --                   --                        --                        True\n",
      "│    │    │    └─Conv2d (conv1)                    [20, 512, 32, 32]         [20, 256, 32, 32]         131,072                     0.40%                   [1, 1]                    2,684,354,560             True\n",
      "│    │    │    └─BatchNorm2d (bn1)                 [20, 256, 32, 32]         [20, 256, 32, 32]         512                         0.00%                   --                        10,240                    True\n",
      "│    │    │    └─ReLU (relu)                       [20, 256, 32, 32]         [20, 256, 32, 32]         --                             --                   --                        --                        --\n",
      "│    │    │    └─Conv2d (conv2)                    [20, 256, 32, 32]         [20, 256, 16, 16]         589,824                     1.81%                   [3, 3]                    3,019,898,880             True\n",
      "│    │    │    └─BatchNorm2d (bn2)                 [20, 256, 16, 16]         [20, 256, 16, 16]         512                         0.00%                   --                        10,240                    True\n",
      "│    │    │    └─ReLU (relu)                       [20, 256, 16, 16]         [20, 256, 16, 16]         --                        (recursive)               --                        --                        --\n",
      "│    │    │    └─Conv2d (conv3)                    [20, 256, 16, 16]         [20, 1024, 16, 16]        262,144                     0.81%                   [1, 1]                    1,342,177,280             True\n",
      "│    │    │    └─BatchNorm2d (bn3)                 [20, 1024, 16, 16]        [20, 1024, 16, 16]        2,048                       0.01%                   --                        40,960                    True\n",
      "│    │    │    └─Sequential (downsample)           [20, 512, 32, 32]         [20, 1024, 16, 16]        --                             --                   --                        --                        True\n",
      "│    │    │    │    └─Conv2d (0)                   [20, 512, 32, 32]         [20, 1024, 16, 16]        524,288                     1.61%                   [1, 1]                    2,684,354,560             True\n",
      "│    │    │    │    └─BatchNorm2d (1)              [20, 1024, 16, 16]        [20, 1024, 16, 16]        2,048                       0.01%                   --                        40,960                    True\n",
      "│    │    │    └─ReLU (relu)                       [20, 1024, 16, 16]        [20, 1024, 16, 16]        --                        (recursive)               --                        --                        --\n",
      "│    │    └─Bottleneck (1)                         [20, 1024, 16, 16]        [20, 1024, 16, 16]        --                             --                   --                        --                        True\n",
      "│    │    │    └─Conv2d (conv1)                    [20, 1024, 16, 16]        [20, 256, 16, 16]         262,144                     0.81%                   [1, 1]                    1,342,177,280             True\n",
      "│    │    │    └─BatchNorm2d (bn1)                 [20, 256, 16, 16]         [20, 256, 16, 16]         512                         0.00%                   --                        10,240                    True\n",
      "│    │    │    └─ReLU (relu)                       [20, 256, 16, 16]         [20, 256, 16, 16]         --                             --                   --                        --                        --\n",
      "│    │    │    └─Conv2d (conv2)                    [20, 256, 16, 16]         [20, 256, 16, 16]         589,824                     1.81%                   [3, 3]                    3,019,898,880             True\n",
      "│    │    │    └─BatchNorm2d (bn2)                 [20, 256, 16, 16]         [20, 256, 16, 16]         512                         0.00%                   --                        10,240                    True\n",
      "│    │    │    └─ReLU (relu)                       [20, 256, 16, 16]         [20, 256, 16, 16]         --                        (recursive)               --                        --                        --\n",
      "│    │    │    └─Conv2d (conv3)                    [20, 256, 16, 16]         [20, 1024, 16, 16]        262,144                     0.81%                   [1, 1]                    1,342,177,280             True\n",
      "│    │    │    └─BatchNorm2d (bn3)                 [20, 1024, 16, 16]        [20, 1024, 16, 16]        2,048                       0.01%                   --                        40,960                    True\n",
      "│    │    │    └─ReLU (relu)                       [20, 1024, 16, 16]        [20, 1024, 16, 16]        --                        (recursive)               --                        --                        --\n",
      "│    │    └─Bottleneck (2)                         [20, 1024, 16, 16]        [20, 1024, 16, 16]        --                             --                   --                        --                        True\n",
      "│    │    │    └─Conv2d (conv1)                    [20, 1024, 16, 16]        [20, 256, 16, 16]         262,144                     0.81%                   [1, 1]                    1,342,177,280             True\n",
      "│    │    │    └─BatchNorm2d (bn1)                 [20, 256, 16, 16]         [20, 256, 16, 16]         512                         0.00%                   --                        10,240                    True\n",
      "│    │    │    └─ReLU (relu)                       [20, 256, 16, 16]         [20, 256, 16, 16]         --                             --                   --                        --                        --\n",
      "│    │    │    └─Conv2d (conv2)                    [20, 256, 16, 16]         [20, 256, 16, 16]         589,824                     1.81%                   [3, 3]                    3,019,898,880             True\n",
      "│    │    │    └─BatchNorm2d (bn2)                 [20, 256, 16, 16]         [20, 256, 16, 16]         512                         0.00%                   --                        10,240                    True\n",
      "│    │    │    └─ReLU (relu)                       [20, 256, 16, 16]         [20, 256, 16, 16]         --                        (recursive)               --                        --                        --\n",
      "│    │    │    └─Conv2d (conv3)                    [20, 256, 16, 16]         [20, 1024, 16, 16]        262,144                     0.81%                   [1, 1]                    1,342,177,280             True\n",
      "│    │    │    └─BatchNorm2d (bn3)                 [20, 1024, 16, 16]        [20, 1024, 16, 16]        2,048                       0.01%                   --                        40,960                    True\n",
      "│    │    │    └─ReLU (relu)                       [20, 1024, 16, 16]        [20, 1024, 16, 16]        --                        (recursive)               --                        --                        --\n",
      "│    │    └─Bottleneck (3)                         [20, 1024, 16, 16]        [20, 1024, 16, 16]        --                             --                   --                        --                        True\n",
      "│    │    │    └─Conv2d (conv1)                    [20, 1024, 16, 16]        [20, 256, 16, 16]         262,144                     0.81%                   [1, 1]                    1,342,177,280             True\n",
      "│    │    │    └─BatchNorm2d (bn1)                 [20, 256, 16, 16]         [20, 256, 16, 16]         512                         0.00%                   --                        10,240                    True\n",
      "│    │    │    └─ReLU (relu)                       [20, 256, 16, 16]         [20, 256, 16, 16]         --                             --                   --                        --                        --\n",
      "│    │    │    └─Conv2d (conv2)                    [20, 256, 16, 16]         [20, 256, 16, 16]         589,824                     1.81%                   [3, 3]                    3,019,898,880             True\n",
      "│    │    │    └─BatchNorm2d (bn2)                 [20, 256, 16, 16]         [20, 256, 16, 16]         512                         0.00%                   --                        10,240                    True\n",
      "│    │    │    └─ReLU (relu)                       [20, 256, 16, 16]         [20, 256, 16, 16]         --                        (recursive)               --                        --                        --\n",
      "│    │    │    └─Conv2d (conv3)                    [20, 256, 16, 16]         [20, 1024, 16, 16]        262,144                     0.81%                   [1, 1]                    1,342,177,280             True\n",
      "│    │    │    └─BatchNorm2d (bn3)                 [20, 1024, 16, 16]        [20, 1024, 16, 16]        2,048                       0.01%                   --                        40,960                    True\n",
      "│    │    │    └─ReLU (relu)                       [20, 1024, 16, 16]        [20, 1024, 16, 16]        --                        (recursive)               --                        --                        --\n",
      "│    │    └─Bottleneck (4)                         [20, 1024, 16, 16]        [20, 1024, 16, 16]        --                             --                   --                        --                        True\n",
      "│    │    │    └─Conv2d (conv1)                    [20, 1024, 16, 16]        [20, 256, 16, 16]         262,144                     0.81%                   [1, 1]                    1,342,177,280             True\n",
      "│    │    │    └─BatchNorm2d (bn1)                 [20, 256, 16, 16]         [20, 256, 16, 16]         512                         0.00%                   --                        10,240                    True\n",
      "│    │    │    └─ReLU (relu)                       [20, 256, 16, 16]         [20, 256, 16, 16]         --                             --                   --                        --                        --\n",
      "│    │    │    └─Conv2d (conv2)                    [20, 256, 16, 16]         [20, 256, 16, 16]         589,824                     1.81%                   [3, 3]                    3,019,898,880             True\n",
      "│    │    │    └─BatchNorm2d (bn2)                 [20, 256, 16, 16]         [20, 256, 16, 16]         512                         0.00%                   --                        10,240                    True\n",
      "│    │    │    └─ReLU (relu)                       [20, 256, 16, 16]         [20, 256, 16, 16]         --                        (recursive)               --                        --                        --\n",
      "│    │    │    └─Conv2d (conv3)                    [20, 256, 16, 16]         [20, 1024, 16, 16]        262,144                     0.81%                   [1, 1]                    1,342,177,280             True\n",
      "│    │    │    └─BatchNorm2d (bn3)                 [20, 1024, 16, 16]        [20, 1024, 16, 16]        2,048                       0.01%                   --                        40,960                    True\n",
      "│    │    │    └─ReLU (relu)                       [20, 1024, 16, 16]        [20, 1024, 16, 16]        --                        (recursive)               --                        --                        --\n",
      "│    │    └─Bottleneck (5)                         [20, 1024, 16, 16]        [20, 1024, 16, 16]        --                             --                   --                        --                        True\n",
      "│    │    │    └─Conv2d (conv1)                    [20, 1024, 16, 16]        [20, 256, 16, 16]         262,144                     0.81%                   [1, 1]                    1,342,177,280             True\n",
      "│    │    │    └─BatchNorm2d (bn1)                 [20, 256, 16, 16]         [20, 256, 16, 16]         512                         0.00%                   --                        10,240                    True\n",
      "│    │    │    └─ReLU (relu)                       [20, 256, 16, 16]         [20, 256, 16, 16]         --                             --                   --                        --                        --\n",
      "│    │    │    └─Conv2d (conv2)                    [20, 256, 16, 16]         [20, 256, 16, 16]         589,824                     1.81%                   [3, 3]                    3,019,898,880             True\n",
      "│    │    │    └─BatchNorm2d (bn2)                 [20, 256, 16, 16]         [20, 256, 16, 16]         512                         0.00%                   --                        10,240                    True\n",
      "│    │    │    └─ReLU (relu)                       [20, 256, 16, 16]         [20, 256, 16, 16]         --                        (recursive)               --                        --                        --\n",
      "│    │    │    └─Conv2d (conv3)                    [20, 256, 16, 16]         [20, 1024, 16, 16]        262,144                     0.81%                   [1, 1]                    1,342,177,280             True\n",
      "│    │    │    └─BatchNorm2d (bn3)                 [20, 1024, 16, 16]        [20, 1024, 16, 16]        2,048                       0.01%                   --                        40,960                    True\n",
      "│    │    │    └─ReLU (relu)                       [20, 1024, 16, 16]        [20, 1024, 16, 16]        --                        (recursive)               --                        --                        --\n",
      "│    └─Sequential (layer4)                         [20, 1024, 16, 16]        [20, 2048, 8, 8]          --                             --                   --                        --                        True\n",
      "│    │    └─Bottleneck (0)                         [20, 1024, 16, 16]        [20, 2048, 8, 8]          --                             --                   --                        --                        True\n",
      "│    │    │    └─Conv2d (conv1)                    [20, 1024, 16, 16]        [20, 512, 16, 16]         524,288                     1.61%                   [1, 1]                    2,684,354,560             True\n",
      "│    │    │    └─BatchNorm2d (bn1)                 [20, 512, 16, 16]         [20, 512, 16, 16]         1,024                       0.00%                   --                        20,480                    True\n",
      "│    │    │    └─ReLU (relu)                       [20, 512, 16, 16]         [20, 512, 16, 16]         --                             --                   --                        --                        --\n",
      "│    │    │    └─Conv2d (conv2)                    [20, 512, 16, 16]         [20, 512, 8, 8]           2,359,296                   7.25%                   [3, 3]                    3,019,898,880             True\n",
      "│    │    │    └─BatchNorm2d (bn2)                 [20, 512, 8, 8]           [20, 512, 8, 8]           1,024                       0.00%                   --                        20,480                    True\n",
      "│    │    │    └─ReLU (relu)                       [20, 512, 8, 8]           [20, 512, 8, 8]           --                        (recursive)               --                        --                        --\n",
      "│    │    │    └─Conv2d (conv3)                    [20, 512, 8, 8]           [20, 2048, 8, 8]          1,048,576                   3.22%                   [1, 1]                    1,342,177,280             True\n",
      "│    │    │    └─BatchNorm2d (bn3)                 [20, 2048, 8, 8]          [20, 2048, 8, 8]          4,096                       0.01%                   --                        81,920                    True\n",
      "│    │    │    └─Sequential (downsample)           [20, 1024, 16, 16]        [20, 2048, 8, 8]          --                             --                   --                        --                        True\n",
      "│    │    │    │    └─Conv2d (0)                   [20, 1024, 16, 16]        [20, 2048, 8, 8]          2,097,152                   6.45%                   [1, 1]                    2,684,354,560             True\n",
      "│    │    │    │    └─BatchNorm2d (1)              [20, 2048, 8, 8]          [20, 2048, 8, 8]          4,096                       0.01%                   --                        81,920                    True\n",
      "│    │    │    └─ReLU (relu)                       [20, 2048, 8, 8]          [20, 2048, 8, 8]          --                        (recursive)               --                        --                        --\n",
      "│    │    └─Bottleneck (1)                         [20, 2048, 8, 8]          [20, 2048, 8, 8]          --                             --                   --                        --                        True\n",
      "│    │    │    └─Conv2d (conv1)                    [20, 2048, 8, 8]          [20, 512, 8, 8]           1,048,576                   3.22%                   [1, 1]                    1,342,177,280             True\n",
      "│    │    │    └─BatchNorm2d (bn1)                 [20, 512, 8, 8]           [20, 512, 8, 8]           1,024                       0.00%                   --                        20,480                    True\n",
      "│    │    │    └─ReLU (relu)                       [20, 512, 8, 8]           [20, 512, 8, 8]           --                             --                   --                        --                        --\n",
      "│    │    │    └─Conv2d (conv2)                    [20, 512, 8, 8]           [20, 512, 8, 8]           2,359,296                   7.25%                   [3, 3]                    3,019,898,880             True\n",
      "│    │    │    └─BatchNorm2d (bn2)                 [20, 512, 8, 8]           [20, 512, 8, 8]           1,024                       0.00%                   --                        20,480                    True\n",
      "│    │    │    └─ReLU (relu)                       [20, 512, 8, 8]           [20, 512, 8, 8]           --                        (recursive)               --                        --                        --\n",
      "│    │    │    └─Conv2d (conv3)                    [20, 512, 8, 8]           [20, 2048, 8, 8]          1,048,576                   3.22%                   [1, 1]                    1,342,177,280             True\n",
      "│    │    │    └─BatchNorm2d (bn3)                 [20, 2048, 8, 8]          [20, 2048, 8, 8]          4,096                       0.01%                   --                        81,920                    True\n",
      "│    │    │    └─ReLU (relu)                       [20, 2048, 8, 8]          [20, 2048, 8, 8]          --                        (recursive)               --                        --                        --\n",
      "│    │    └─Bottleneck (2)                         [20, 2048, 8, 8]          [20, 2048, 8, 8]          --                             --                   --                        --                        True\n",
      "│    │    │    └─Conv2d (conv1)                    [20, 2048, 8, 8]          [20, 512, 8, 8]           1,048,576                   3.22%                   [1, 1]                    1,342,177,280             True\n",
      "│    │    │    └─BatchNorm2d (bn1)                 [20, 512, 8, 8]           [20, 512, 8, 8]           1,024                       0.00%                   --                        20,480                    True\n",
      "│    │    │    └─ReLU (relu)                       [20, 512, 8, 8]           [20, 512, 8, 8]           --                             --                   --                        --                        --\n",
      "│    │    │    └─Conv2d (conv2)                    [20, 512, 8, 8]           [20, 512, 8, 8]           2,359,296                   7.25%                   [3, 3]                    3,019,898,880             True\n",
      "│    │    │    └─BatchNorm2d (bn2)                 [20, 512, 8, 8]           [20, 512, 8, 8]           1,024                       0.00%                   --                        20,480                    True\n",
      "│    │    │    └─ReLU (relu)                       [20, 512, 8, 8]           [20, 512, 8, 8]           --                        (recursive)               --                        --                        --\n",
      "│    │    │    └─Conv2d (conv3)                    [20, 512, 8, 8]           [20, 2048, 8, 8]          1,048,576                   3.22%                   [1, 1]                    1,342,177,280             True\n",
      "│    │    │    └─BatchNorm2d (bn3)                 [20, 2048, 8, 8]          [20, 2048, 8, 8]          4,096                       0.01%                   --                        81,920                    True\n",
      "│    │    │    └─ReLU (relu)                       [20, 2048, 8, 8]          [20, 2048, 8, 8]          --                        (recursive)               --                        --                        --\n",
      "├─UnetDecoder (decoder)                            [20, 3, 256, 256]         [20, 16, 256, 256]        --                             --                   --                        --                        True\n",
      "│    └─Identity (center)                           [20, 2048, 8, 8]          [20, 2048, 8, 8]          --                             --                   --                        --                        --\n",
      "│    └─ModuleList (blocks)                         --                        --                        --                             --                   --                        --                        True\n",
      "│    │    └─DecoderBlock (0)                       [20, 2048, 8, 8]          [20, 256, 16, 16]         --                             --                   --                        --                        True\n",
      "│    │    │    └─Attention (attention1)            [20, 3072, 16, 16]        [20, 3072, 16, 16]        --                             --                   --                        --                        --\n",
      "│    │    │    │    └─Identity (attention)         [20, 3072, 16, 16]        [20, 3072, 16, 16]        --                             --                   --                        --                        --\n",
      "│    │    │    └─Conv2dReLU (conv1)                [20, 3072, 16, 16]        [20, 256, 16, 16]         --                             --                   --                        --                        True\n",
      "│    │    │    │    └─Conv2d (0)                   [20, 3072, 16, 16]        [20, 256, 16, 16]         7,077,888                  21.76%                   [3, 3]                    36,238,786,560            True\n",
      "│    │    │    │    └─BatchNorm2d (1)              [20, 256, 16, 16]         [20, 256, 16, 16]         512                         0.00%                   --                        10,240                    True\n",
      "│    │    │    │    └─ReLU (2)                     [20, 256, 16, 16]         [20, 256, 16, 16]         --                             --                   --                        --                        --\n",
      "│    │    │    └─Conv2dReLU (conv2)                [20, 256, 16, 16]         [20, 256, 16, 16]         --                             --                   --                        --                        True\n",
      "│    │    │    │    └─Conv2d (0)                   [20, 256, 16, 16]         [20, 256, 16, 16]         589,824                     1.81%                   [3, 3]                    3,019,898,880             True\n",
      "│    │    │    │    └─BatchNorm2d (1)              [20, 256, 16, 16]         [20, 256, 16, 16]         512                         0.00%                   --                        10,240                    True\n",
      "│    │    │    │    └─ReLU (2)                     [20, 256, 16, 16]         [20, 256, 16, 16]         --                             --                   --                        --                        --\n",
      "│    │    │    └─Attention (attention2)            [20, 256, 16, 16]         [20, 256, 16, 16]         --                             --                   --                        --                        --\n",
      "│    │    │    │    └─Identity (attention)         [20, 256, 16, 16]         [20, 256, 16, 16]         --                             --                   --                        --                        --\n",
      "│    │    └─DecoderBlock (1)                       [20, 256, 16, 16]         [20, 128, 32, 32]         --                             --                   --                        --                        True\n",
      "│    │    │    └─Attention (attention1)            [20, 768, 32, 32]         [20, 768, 32, 32]         --                             --                   --                        --                        --\n",
      "│    │    │    │    └─Identity (attention)         [20, 768, 32, 32]         [20, 768, 32, 32]         --                             --                   --                        --                        --\n",
      "│    │    │    └─Conv2dReLU (conv1)                [20, 768, 32, 32]         [20, 128, 32, 32]         --                             --                   --                        --                        True\n",
      "│    │    │    │    └─Conv2d (0)                   [20, 768, 32, 32]         [20, 128, 32, 32]         884,736                     2.72%                   [3, 3]                    18,119,393,280            True\n",
      "│    │    │    │    └─BatchNorm2d (1)              [20, 128, 32, 32]         [20, 128, 32, 32]         256                         0.00%                   --                        5,120                     True\n",
      "│    │    │    │    └─ReLU (2)                     [20, 128, 32, 32]         [20, 128, 32, 32]         --                             --                   --                        --                        --\n",
      "│    │    │    └─Conv2dReLU (conv2)                [20, 128, 32, 32]         [20, 128, 32, 32]         --                             --                   --                        --                        True\n",
      "│    │    │    │    └─Conv2d (0)                   [20, 128, 32, 32]         [20, 128, 32, 32]         147,456                     0.45%                   [3, 3]                    3,019,898,880             True\n",
      "│    │    │    │    └─BatchNorm2d (1)              [20, 128, 32, 32]         [20, 128, 32, 32]         256                         0.00%                   --                        5,120                     True\n",
      "│    │    │    │    └─ReLU (2)                     [20, 128, 32, 32]         [20, 128, 32, 32]         --                             --                   --                        --                        --\n",
      "│    │    │    └─Attention (attention2)            [20, 128, 32, 32]         [20, 128, 32, 32]         --                             --                   --                        --                        --\n",
      "│    │    │    │    └─Identity (attention)         [20, 128, 32, 32]         [20, 128, 32, 32]         --                             --                   --                        --                        --\n",
      "│    │    └─DecoderBlock (2)                       [20, 128, 32, 32]         [20, 64, 64, 64]          --                             --                   --                        --                        True\n",
      "│    │    │    └─Attention (attention1)            [20, 384, 64, 64]         [20, 384, 64, 64]         --                             --                   --                        --                        --\n",
      "│    │    │    │    └─Identity (attention)         [20, 384, 64, 64]         [20, 384, 64, 64]         --                             --                   --                        --                        --\n",
      "│    │    │    └─Conv2dReLU (conv1)                [20, 384, 64, 64]         [20, 64, 64, 64]          --                             --                   --                        --                        True\n",
      "│    │    │    │    └─Conv2d (0)                   [20, 384, 64, 64]         [20, 64, 64, 64]          221,184                     0.68%                   [3, 3]                    18,119,393,280            True\n",
      "│    │    │    │    └─BatchNorm2d (1)              [20, 64, 64, 64]          [20, 64, 64, 64]          128                         0.00%                   --                        2,560                     True\n",
      "│    │    │    │    └─ReLU (2)                     [20, 64, 64, 64]          [20, 64, 64, 64]          --                             --                   --                        --                        --\n",
      "│    │    │    └─Conv2dReLU (conv2)                [20, 64, 64, 64]          [20, 64, 64, 64]          --                             --                   --                        --                        True\n",
      "│    │    │    │    └─Conv2d (0)                   [20, 64, 64, 64]          [20, 64, 64, 64]          36,864                      0.11%                   [3, 3]                    3,019,898,880             True\n",
      "│    │    │    │    └─BatchNorm2d (1)              [20, 64, 64, 64]          [20, 64, 64, 64]          128                         0.00%                   --                        2,560                     True\n",
      "│    │    │    │    └─ReLU (2)                     [20, 64, 64, 64]          [20, 64, 64, 64]          --                             --                   --                        --                        --\n",
      "│    │    │    └─Attention (attention2)            [20, 64, 64, 64]          [20, 64, 64, 64]          --                             --                   --                        --                        --\n",
      "│    │    │    │    └─Identity (attention)         [20, 64, 64, 64]          [20, 64, 64, 64]          --                             --                   --                        --                        --\n",
      "│    │    └─DecoderBlock (3)                       [20, 64, 64, 64]          [20, 32, 128, 128]        --                             --                   --                        --                        True\n",
      "│    │    │    └─Attention (attention1)            [20, 128, 128, 128]       [20, 128, 128, 128]       --                             --                   --                        --                        --\n",
      "│    │    │    │    └─Identity (attention)         [20, 128, 128, 128]       [20, 128, 128, 128]       --                             --                   --                        --                        --\n",
      "│    │    │    └─Conv2dReLU (conv1)                [20, 128, 128, 128]       [20, 32, 128, 128]        --                             --                   --                        --                        True\n",
      "│    │    │    │    └─Conv2d (0)                   [20, 128, 128, 128]       [20, 32, 128, 128]        36,864                      0.11%                   [3, 3]                    12,079,595,520            True\n",
      "│    │    │    │    └─BatchNorm2d (1)              [20, 32, 128, 128]        [20, 32, 128, 128]        64                          0.00%                   --                        1,280                     True\n",
      "│    │    │    │    └─ReLU (2)                     [20, 32, 128, 128]        [20, 32, 128, 128]        --                             --                   --                        --                        --\n",
      "│    │    │    └─Conv2dReLU (conv2)                [20, 32, 128, 128]        [20, 32, 128, 128]        --                             --                   --                        --                        True\n",
      "│    │    │    │    └─Conv2d (0)                   [20, 32, 128, 128]        [20, 32, 128, 128]        9,216                       0.03%                   [3, 3]                    3,019,898,880             True\n",
      "│    │    │    │    └─BatchNorm2d (1)              [20, 32, 128, 128]        [20, 32, 128, 128]        64                          0.00%                   --                        1,280                     True\n",
      "│    │    │    │    └─ReLU (2)                     [20, 32, 128, 128]        [20, 32, 128, 128]        --                             --                   --                        --                        --\n",
      "│    │    │    └─Attention (attention2)            [20, 32, 128, 128]        [20, 32, 128, 128]        --                             --                   --                        --                        --\n",
      "│    │    │    │    └─Identity (attention)         [20, 32, 128, 128]        [20, 32, 128, 128]        --                             --                   --                        --                        --\n",
      "│    │    └─DecoderBlock (4)                       [20, 32, 128, 128]        [20, 16, 256, 256]        --                             --                   --                        --                        True\n",
      "│    │    │    └─Conv2dReLU (conv1)                [20, 32, 256, 256]        [20, 16, 256, 256]        --                             --                   --                        --                        True\n",
      "│    │    │    │    └─Conv2d (0)                   [20, 32, 256, 256]        [20, 16, 256, 256]        4,608                       0.01%                   [3, 3]                    6,039,797,760             True\n",
      "│    │    │    │    └─BatchNorm2d (1)              [20, 16, 256, 256]        [20, 16, 256, 256]        32                          0.00%                   --                        640                       True\n",
      "│    │    │    │    └─ReLU (2)                     [20, 16, 256, 256]        [20, 16, 256, 256]        --                             --                   --                        --                        --\n",
      "│    │    │    └─Conv2dReLU (conv2)                [20, 16, 256, 256]        [20, 16, 256, 256]        --                             --                   --                        --                        True\n",
      "│    │    │    │    └─Conv2d (0)                   [20, 16, 256, 256]        [20, 16, 256, 256]        2,304                       0.01%                   [3, 3]                    3,019,898,880             True\n",
      "│    │    │    │    └─BatchNorm2d (1)              [20, 16, 256, 256]        [20, 16, 256, 256]        32                          0.00%                   --                        640                       True\n",
      "│    │    │    │    └─ReLU (2)                     [20, 16, 256, 256]        [20, 16, 256, 256]        --                             --                   --                        --                        --\n",
      "│    │    │    └─Attention (attention2)            [20, 16, 256, 256]        [20, 16, 256, 256]        --                             --                   --                        --                        --\n",
      "│    │    │    │    └─Identity (attention)         [20, 16, 256, 256]        [20, 16, 256, 256]        --                             --                   --                        --                        --\n",
      "├─SegmentationHead (segmentation_head)             [20, 16, 256, 256]        [20, 2, 256, 256]         --                             --                   --                        --                        True\n",
      "│    └─Conv2d (0)                                  [20, 16, 256, 256]        [20, 2, 256, 256]         290                         0.00%                   [3, 3]                    380,108,800               True\n",
      "│    └─Identity (1)                                [20, 2, 256, 256]         [20, 2, 256, 256]         --                             --                   --                        --                        --\n",
      "│    └─Activation (2)                              [20, 2, 256, 256]         [20, 2, 256, 256]         --                             --                   --                        --                        --\n",
      "│    │    └─ReLU (activation)                      [20, 2, 256, 256]         [20, 2, 256, 256]         --                             --                   --                        --                        --\n",
      "=================================================================================================================================================================================================================================\n",
      "Total params: 32,521,250\n",
      "Trainable params: 32,521,250\n",
      "Non-trainable params: 0\n",
      "Total mult-adds (G): 212.84\n",
      "=================================================================================================================================================================================================================================\n",
      "Input size (MB): 15.73\n",
      "Forward/backward pass size (MB): 5966.40\n",
      "Params size (MB): 130.09\n",
      "Estimated Total Size (MB): 6112.21\n",
      "=================================================================================================================================================================================================================================\n"
     ]
    }
   ],
   "source": [
    "# model = UNet()\n",
    "model = model.to(device)\n",
    "print(model_sum := torchinfo.summary(model, depth=10, input_size=(BATCH_SIZE, 3, *CROP_SIZE), row_settings=[\"var_names\"], verbose=0, col_names=[\n",
    "      \"input_size\", \"output_size\", \"num_params\", \"params_percent\", \"kernel_size\", \"mult_adds\", \"trainable\"]))"
   ]
  },
  {
   "cell_type": "code",
   "execution_count": 13,
   "metadata": {
    "id": "Jo4-FpYHTBYn"
   },
   "outputs": [],
   "source": [
    "train_dataset = RoadsDataset(*TRAIN_SET,\n",
    "                       class_rgb_values=CLASS_RGB_VALUES, transform=train_transform, readyToNetwork=prepare_to_network)\n",
    "valid_dataset = RoadsDataset(*VALID_SET,\n",
    "                       class_rgb_values=CLASS_RGB_VALUES, transform=valid_transform, readyToNetwork=prepare_to_network)\n",
    "\n",
    "train_dataloader = DataLoader(\n",
    "    train_dataset,\n",
    "    batch_size=BATCH_SIZE,\n",
    "    shuffle=True,\n",
    "    num_workers=NUM_WORKERS,  \n",
    ")\n",
    "valid_dataloader = DataLoader(\n",
    "    valid_dataset,\n",
    "    batch_size=BATCH_SIZE//4,\n",
    "    num_workers=NUM_WORKERS,\n",
    ")"
   ]
  },
  {
   "cell_type": "code",
   "execution_count": 14,
   "metadata": {
    "id": "zgcQu20Q2jK5"
   },
   "outputs": [],
   "source": [
    "# model = UNet().to(device)"
   ]
  },
  {
   "cell_type": "code",
   "execution_count": 15,
   "metadata": {
    "id": "fNE_bcOqTE5p"
   },
   "outputs": [],
   "source": [
    "loss = smp.losses.DiceLoss(mode='binary')\n",
    "\n",
    "optimizer = torch.optim.Adam(model.parameters(),\n",
    "                              lr=LEARNING_RATE, weight_decay=WEIGHT_DECAY)"
   ]
  },
  {
   "cell_type": "code",
   "execution_count": 16,
   "metadata": {
    "id": "zutb3z-lus6h"
   },
   "outputs": [],
   "source": [
    "def train_step(net, criterion, optimizer, dataloader, epoch: int = None):\n",
    "    net.train()\n",
    "    running_loss = 0.\n",
    "    for images, labels in dataloader:\n",
    "        images = images.to(device)\n",
    "        labels = labels.to(device)\n",
    "\n",
    "        optimizer.zero_grad()\n",
    "\n",
    "        output = net(images)\n",
    "\n",
    "        loss = criterion(output, labels)\n",
    "        loss.backward()\n",
    "        optimizer.step()\n",
    "        running_loss += loss\n",
    "\n",
    "    with torch.no_grad():\n",
    "        train_loss = running_loss / len(dataloader)\n",
    "    return train_loss.item()\n",
    "\n",
    "s = nn.Softmax()\n",
    "def valid_step(net, criterion, dataloader, epoch: int = None):\n",
    "    net.eval()\n",
    "    running_loss = 0.\n",
    "    IoU = metrics.BinaryJaccardIndex()\n",
    "    IoU.to(device)\n",
    "\n",
    "    with torch.no_grad():\n",
    "        for step, (images, labels) in enumerate(dataloader):\n",
    "            images = images.to(device)\n",
    "            labels = labels.to(device)\n",
    "\n",
    "            output = net(images)\n",
    "\n",
    "            t=s(output)\n",
    "            IoU(output, labels)\n",
    "            loss = criterion(output, labels)\n",
    "            running_loss += loss\n",
    "\n",
    "            save_imgs(pjoin(TBpath, f\"valid_samples/samples_{epoch}\"), name=f\"img_{step}\",\n",
    "                origin=images[0].cpu().numpy().transpose(2, 1, 0),\n",
    "                true=colour_code_segmentation(reverse_one_hot(\n",
    "                    labels[0].cpu().numpy().transpose(2, 1, 0)), CLASS_RGB_VALUES),\n",
    "                pred=colour_code_segmentation(reverse_one_hot(\n",
    "                    output[0].cpu().numpy().transpose(2, 1, 0)), CLASS_RGB_VALUES))\n",
    "\n",
    "        TBwriter.add_figure('valid_sample', create_image_plot(\n",
    "                origin=images[0].cpu().numpy().transpose(2, 1, 0),\n",
    "                true=colour_code_segmentation(reverse_one_hot(\n",
    "                    labels[0].cpu().numpy().transpose(2, 1, 0)), CLASS_RGB_VALUES),\n",
    "                pred=colour_code_segmentation(reverse_one_hot(\n",
    "                    output[0].cpu().numpy().transpose(2, 1, 0)), CLASS_RGB_VALUES)),\n",
    "                  epoch)\n",
    "\n",
    "        valid_loss = running_loss / len(valid_dataloader)\n",
    "\n",
    "        return valid_loss.item(), IoU.compute().item()"
   ]
  },
  {
   "cell_type": "code",
   "execution_count": 18,
   "metadata": {
    "colab": {
     "base_uri": "https://localhost:8080/",
     "height": 485
    },
    "id": "hNsLHZd9vLIx",
    "outputId": "ef2956d6-c470-4b98-8266-d972defe8414"
   },
   "outputs": [
    {
     "name": "stderr",
     "output_type": "stream",
     "text": [
      "  0%|          | 0/15 [00:00<?, ?it/s]/tmp/ipykernel_883373/3358363367.py:35: UserWarning: Implicit dimension choice for softmax has been deprecated. Change the call to include dim=X as an argument.\n",
      "  t=s(output)\n",
      "IoU: 0.89  | train/valid loss: 0.2462/0.2430:  20%|██        | 3/15 [17:06<1:08:18, 341.52s/it]"
     ]
    },
    {
     "name": "stdout",
     "output_type": "stream",
     "text": [
      "[2] Saved weights with IoU: 0.89 | loss: 0.2430\n"
     ]
    },
    {
     "name": "stderr",
     "output_type": "stream",
     "text": [
      "IoU: 0.92  | train/valid loss: 0.2286/0.2275:  27%|██▋       | 4/15 [23:58<1:07:40, 369.17s/it]"
     ]
    },
    {
     "name": "stdout",
     "output_type": "stream",
     "text": [
      "[3] Saved weights with IoU: 0.92 | loss: 0.2275\n"
     ]
    },
    {
     "name": "stderr",
     "output_type": "stream",
     "text": [
      "IoU: 0.92  | train/valid loss: 0.2196/0.2207:  33%|███▎      | 5/15 [30:02<1:01:15, 367.60s/it]"
     ]
    },
    {
     "name": "stdout",
     "output_type": "stream",
     "text": [
      "[4] Saved weights with IoU: 0.92 | loss: 0.2207\n"
     ]
    },
    {
     "name": "stderr",
     "output_type": "stream",
     "text": [
      "IoU: 0.92  | train/valid loss: 0.2148/0.2172:  40%|████      | 6/15 [35:45<53:52, 359.12s/it]  "
     ]
    },
    {
     "name": "stdout",
     "output_type": "stream",
     "text": [
      "[5] Saved weights with IoU: 0.92 | loss: 0.2172\n"
     ]
    },
    {
     "name": "stderr",
     "output_type": "stream",
     "text": [
      "IoU: 0.93  | train/valid loss: 0.2124/0.2155:  47%|████▋     | 7/15 [41:26<47:06, 353.29s/it]"
     ]
    },
    {
     "name": "stdout",
     "output_type": "stream",
     "text": [
      "[6] Saved weights with IoU: 0.93 | loss: 0.2155\n"
     ]
    },
    {
     "name": "stderr",
     "output_type": "stream",
     "text": [
      "IoU: 0.93  | train/valid loss: 0.2111/0.2145:  53%|█████▎    | 8/15 [47:12<40:55, 350.73s/it]"
     ]
    },
    {
     "name": "stdout",
     "output_type": "stream",
     "text": [
      "[7] Saved weights with IoU: 0.93 | loss: 0.2145\n"
     ]
    },
    {
     "name": "stderr",
     "output_type": "stream",
     "text": [
      "IoU: 0.93  | train/valid loss: 0.2103/0.2138:  60%|██████    | 9/15 [52:53<34:46, 347.80s/it]"
     ]
    },
    {
     "name": "stdout",
     "output_type": "stream",
     "text": [
      "[8] Saved weights with IoU: 0.93 | loss: 0.2138\n"
     ]
    },
    {
     "name": "stderr",
     "output_type": "stream",
     "text": [
      "IoU: 0.93  | train/valid loss: 0.2098/0.2134:  67%|██████▋   | 10/15 [58:37<28:53, 346.69s/it]"
     ]
    },
    {
     "name": "stdout",
     "output_type": "stream",
     "text": [
      "[9] Saved weights with IoU: 0.93 | loss: 0.2134\n"
     ]
    },
    {
     "name": "stderr",
     "output_type": "stream",
     "text": [
      "IoU: 0.93  | train/valid loss: 0.2095/0.2133:  73%|███████▎  | 11/15 [1:04:16<22:57, 344.31s/it]"
     ]
    },
    {
     "name": "stdout",
     "output_type": "stream",
     "text": [
      "[10] Saved weights with IoU: 0.93 | loss: 0.2133\n"
     ]
    },
    {
     "name": "stderr",
     "output_type": "stream",
     "text": [
      "IoU: 0.93  | train/valid loss: 0.2093/0.2129:  80%|████████  | 12/15 [1:10:00<17:12, 344.05s/it]"
     ]
    },
    {
     "name": "stdout",
     "output_type": "stream",
     "text": [
      "[11] Saved weights with IoU: 0.93 | loss: 0.2129\n"
     ]
    },
    {
     "name": "stderr",
     "output_type": "stream",
     "text": [
      "IoU: 0.93  | train/valid loss: 0.2091/0.2128:  87%|████████▋ | 13/15 [1:15:41<11:26, 343.15s/it]"
     ]
    },
    {
     "name": "stdout",
     "output_type": "stream",
     "text": [
      "[12] Saved weights with IoU: 0.93 | loss: 0.2128\n"
     ]
    },
    {
     "name": "stderr",
     "output_type": "stream",
     "text": [
      "IoU: 0.93  | train/valid loss: 0.2089/0.2127:  93%|█████████▎| 14/15 [1:21:24<05:43, 343.25s/it]"
     ]
    },
    {
     "name": "stdout",
     "output_type": "stream",
     "text": [
      "[13] Saved weights with IoU: 0.93 | loss: 0.2127\n"
     ]
    },
    {
     "name": "stderr",
     "output_type": "stream",
     "text": [
      "IoU: 0.93  | train/valid loss: 0.2088/0.2126: 100%|██████████| 15/15 [1:27:05<00:00, 342.56s/it]"
     ]
    },
    {
     "name": "stdout",
     "output_type": "stream",
     "text": [
      "[14] Saved weights with IoU: 0.93 | loss: 0.2126\n"
     ]
    }
   ],
   "source": [
    "epoch = STARTING_EPOCH\n",
    "\n",
    "best_loss = 10000\n",
    "trained = True\n",
    "\n",
    "pbar = tqdm(range(EPOCHS))\n",
    "pbar.update(epoch)\n",
    "\n",
    "while(epoch < EPOCHS):\n",
    "    train_loss = train_step(model, loss, optimizer, train_dataloader, epoch)\n",
    "    valid_loss, iou_score = valid_step(model, loss, valid_dataloader, epoch)\n",
    "    scheduler.step(valid_loss)\n",
    "\n",
    "    if WEIGHT_SAVER != \"nothing\" and valid_loss < best_loss and epoch > 1:\n",
    "        best_loss = valid_loss\n",
    "\n",
    "        print(f\"[{epoch}] Saved weights with IoU: {iou_score:.2f} | loss: {valid_loss:.4f}\")\n",
    "    \n",
    "#         if WEIGHT_SAVER == \"last\":\n",
    "#             weights_path = f\"{TBpath}/weights_last.pth\"\n",
    "#             model_path =   f\"{TBpath}/model_last.onnx\"\n",
    "#             optimizer_path = f\"{TBpath}/optimizer_last.pth\"\n",
    "\n",
    "#         if \"TORCH\" in SAVE_METHOD:\n",
    "#             torch.save(model.state_dict(), weights_path)\n",
    "\n",
    "\n",
    "    TBwriter.add_scalar('valid loss', valid_loss, epoch)\n",
    "    TBwriter.add_scalar('train loss', train_loss, epoch)\n",
    "    \n",
    "    TBwriter.add_scalar('IoU', iou_score, epoch)\n",
    "\n",
    "    epoch += 1\n",
    "    pbar.update()\n",
    "    pbar.set_description(\n",
    "        f'IoU: {iou_score:.2f}  | train/valid loss: {train_loss:.4f}/{valid_loss:.4f}')"
   ]
  },
  {
   "cell_type": "code",
   "execution_count": 19,
   "metadata": {
    "id": "hLDCpk-5vjHz"
   },
   "outputs": [],
   "source": [
    "test_transform = A.Compose(\n",
    "    [\n",
    "        A.Normalize(mean=NORMALIZE_MEAN_IMG, std=NORMALIZE_DEVIATIONS_IMG, always_apply=True),\n",
    "    ]\n",
    ")\n",
    "\n",
    "test_dataset = RoadsDataset(*TEST_SET,\n",
    "       class_rgb_values=CLASS_RGB_VALUES, transform=valid_transform, readyToNetwork=prepare_to_network)\n",
    "test_dataloader = DataLoader(\n",
    "    test_dataset,\n",
    "    batch_size=36,\n",
    "    num_workers=NUM_WORKERS,\n",
    ")\n",
    "if not trained:\n",
    "    print(f\"Используется не обученная модель, происходит загрузка модели из {SAVED_MODEL_PATH}\")\n",
    "    model = None\n",
    "    if \"TORCH\" in SAVE_METHOD and model is None:\n",
    "        print(f\"Попытка импорта модели из pth файла\")\n",
    "        model = UNet(3,2,bilinear=True)\n",
    "        model.state_dict(torch.load(f=SAVED_MODEL_PATH))\n",
    "\n",
    "    model.to(device)"
   ]
  },
  {
   "cell_type": "code",
   "execution_count": 20,
   "metadata": {
    "id": "yaxCF54fvQns"
   },
   "outputs": [],
   "source": [
    "def test_step(model, loader):\n",
    "    classes = CLASS_NAMES\n",
    "\n",
    "    iou = metrics.JaccardIndex(task=\"binary\", num_classes=2).to(device)\n",
    "\n",
    "    with torch.no_grad():\n",
    "        model.eval()\n",
    "        model.to(device)\n",
    "        for id, (images, labels) in enumerate(loader):\n",
    "            images = images.to(device)\n",
    "            labels = labels.to(device)\n",
    "            output = model(images)\n",
    "            TBwriter.add_figure('test_sample', create_image_plot(\n",
    "                origin=images[0].cpu().numpy().transpose(2, 1, 0),\n",
    "                true=colour_code_segmentation(reverse_one_hot(\n",
    "                    labels[0].cpu().numpy().transpose(2, 1, 0)), CLASS_RGB_VALUES),\n",
    "                pred=colour_code_segmentation(reverse_one_hot(\n",
    "                    output[0].cpu().numpy().transpose(2, 1, 0)), CLASS_RGB_VALUES)),\n",
    "                  id)\n",
    "            iou.update(output, labels)\n",
    "    return iou.compute()"
   ]
  },
  {
   "cell_type": "code",
   "execution_count": 21,
   "metadata": {
    "id": "l688aNhzvTH5"
   },
   "outputs": [
    {
     "name": "stdout",
     "output_type": "stream",
     "text": [
      "IoU: 0.9571388959884644\n"
     ]
    }
   ],
   "source": [
    "iou = test_step(model, test_dataloader)\n",
    "print(f\"IoU: {iou}\")\n",
    "TBwriter.close()"
   ]
  },
  {
   "cell_type": "code",
   "execution_count": 22,
   "metadata": {
    "id": "91zG7YaBvVVt"
   },
   "outputs": [],
   "source": [
    "import numpy as np\n",
    "\n",
    "# Определите фильтр для выполнения билинейной интерполяции\n",
    "def bilinear_filter(size):\n",
    "    factor = (size + 1) // 2\n",
    "    if size % 2 == 1:\n",
    "        center = factor - 1\n",
    "    else:\n",
    "        center = factor - 0.5\n",
    "    og = np.ogrid[:size, :size]\n",
    "    filter = (1 - abs(og[0] - center) / factor) * (1 - abs(og[1] - center) / factor)\n",
    "    return filter\n",
    "\n",
    "filter_size = 4\n",
    "filter = bilinear_filter(filter_size) \n",
    "\n",
    "import torch\n",
    "import torch.nn as nn\n",
    "\n",
    "in_channels = 3  # количество входных каналов (цветовых каналов)\n",
    "out_channels = 3  # количество выходных каналов\n",
    "stride = 2  # шаг (stride)\n",
    "\n",
    "conv_transpose = nn.ConvTranspose2d(in_channels, out_channels, filter_size, stride=stride, bias=False)\n",
    "conv_transpose.weight.data = torch.Tensor(np.tile(filter, (in_channels, out_channels, 1, 1)))"
   ]
  },
  {
   "cell_type": "code",
   "execution_count": null,
   "metadata": {},
   "outputs": [],
   "source": []
  },
  {
   "cell_type": "code",
   "execution_count": null,
   "metadata": {},
   "outputs": [],
   "source": []
  }
 ],
 "metadata": {
  "accelerator": "GPU",
  "colab": {
   "gpuType": "T4",
   "provenance": []
  },
  "kernelspec": {
   "display_name": "Python 3 (ipykernel)",
   "language": "python",
   "name": "python3"
  },
  "language_info": {
   "codemirror_mode": {
    "name": "ipython",
    "version": 3
   },
   "file_extension": ".py",
   "mimetype": "text/x-python",
   "name": "python",
   "nbconvert_exporter": "python",
   "pygments_lexer": "ipython3",
   "version": "3.8.10"
  }
 },
 "nbformat": 4,
 "nbformat_minor": 4
}
